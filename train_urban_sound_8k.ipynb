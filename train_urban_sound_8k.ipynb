{
 "cells": [
  {
   "cell_type": "code",
   "execution_count": 1,
   "metadata": {},
   "outputs": [
    {
     "name": "stderr",
     "output_type": "stream",
     "text": [
      "Using TensorFlow backend.\n"
     ]
    }
   ],
   "source": [
    "import keras\n",
    "from keras.layers import Activation, Dense, Dropout, Conv2D, \\\n",
    "                         Flatten, MaxPooling2D\n",
    "from keras.models import Sequential\n",
    "from keras.callbacks import TensorBoard\n",
    "import librosa\n",
    "import librosa.display\n",
    "import numpy as np\n",
    "import pandas as pd\n",
    "import random\n",
    "import os\n",
    "import time\n",
    "import matplotlib.pyplot as plt\n",
    "%matplotlib inline"
   ]
  },
  {
   "cell_type": "code",
   "execution_count": 2,
   "metadata": {},
   "outputs": [],
   "source": [
    "data_set_folder = 'UrbanSound8K/sound_data'\n",
    "test_data_set_folder = 'UrbanSound8K/sound_data/fold10'\n",
    "black_list_folders = ['fold10'] # reserve for validation set\n",
    "import_folder_paths = []\n",
    "target_wav_duration = 2.97\n",
    "wav_data_shape_x = 128\n",
    "wav_data_shape_y = 128\n",
    "batch_size = 128\n",
    "epochs = 40"
   ]
  },
  {
   "cell_type": "code",
   "execution_count": 3,
   "metadata": {},
   "outputs": [],
   "source": [
    "def extract_feature(file_path):\n",
    "    y, sr = librosa.load(file_path, duration=target_wav_duration)\n",
    "    ps = librosa.feature.melspectrogram(y=y, sr=sr)\n",
    "    if ps.shape != (wav_data_shape_x, wav_data_shape_y):\n",
    "        return None, None\n",
    "    return ps, sr\n",
    "\n",
    "def import_sound_data(folder_path):\n",
    "    imported_count = 0\n",
    "    imported_data_set = []\n",
    "    for root, _, files in os.walk(folder_path):\n",
    "        for file in files:\n",
    "            file_name, file_extension = os.path.splitext(file)\n",
    "            if file_extension != '.wav': continue\n",
    "            file_path = os.path.join(root, file)\n",
    "            ps, sr = extract_feature(file_path)\n",
    "            if sr == None:\n",
    "                continue\n",
    "            class_id = file.split('-')[1]\n",
    "            imported_data_set.append((ps, class_id))\n",
    "            imported_count += 1\n",
    "            if imported_count % 1000 == 0:\n",
    "                print('Import in progress...{}'.format(imported_count))\n",
    "    print('Import finish for folder:{}'.format(folder_path))\n",
    "    return imported_data_set, imported_count"
   ]
  },
  {
   "cell_type": "code",
   "execution_count": 4,
   "metadata": {},
   "outputs": [],
   "source": [
    "import_folder_paths = []\n",
    "for root, dirnames, _ in os.walk(data_set_folder):\n",
    "    for dir_name in dirnames:\n",
    "        if dir_name in black_list_folders:\n",
    "            continue\n",
    "        wav_folder_path = os.path.join(root, dir_name)\n",
    "        import_folder_paths.append(wav_folder_path)\n",
    "#print('import_folder_paths:{}'.format(import_folder_paths))"
   ]
  },
  {
   "cell_type": "markdown",
   "metadata": {},
   "source": [
    "### Import Train Data"
   ]
  },
  {
   "cell_type": "code",
   "execution_count": 5,
   "metadata": {},
   "outputs": [
    {
     "name": "stdout",
     "output_type": "stream",
     "text": [
      "Import in progress...1000\n",
      "Import in progress...2000\n",
      "Import in progress...3000\n",
      "Import finish for folder:UrbanSound8K/sound_data/fold2\n",
      "Import in progress...1000\n",
      "Import in progress...2000\n",
      "Import in progress...3000\n",
      "Import in progress...4000\n",
      "Import finish for folder:UrbanSound8K/sound_data/fold5\n",
      "Import in progress...1000\n",
      "Import in progress...2000\n",
      "Import in progress...3000\n",
      "Import in progress...4000\n",
      "Import finish for folder:UrbanSound8K/sound_data/fold4\n",
      "Import in progress...1000\n",
      "Import in progress...2000\n",
      "Import in progress...3000\n",
      "Import in progress...4000\n",
      "Import finish for folder:UrbanSound8K/sound_data/fold3\n",
      "Import in progress...1000\n",
      "Import in progress...2000\n",
      "Import in progress...3000\n",
      "Import finish for folder:UrbanSound8K/sound_data/fold8\n",
      "Import in progress...1000\n",
      "Import in progress...2000\n",
      "Import in progress...3000\n",
      "Import finish for folder:UrbanSound8K/sound_data/fold6\n",
      "Import in progress...1000\n",
      "Import in progress...2000\n",
      "Import finish for folder:UrbanSound8K/sound_data/fold1\n",
      "Import in progress...1000\n",
      "Import in progress...2000\n",
      "Import in progress...3000\n",
      "Import finish for folder:UrbanSound8K/sound_data/fold9\n"
     ]
    }
   ],
   "source": [
    "train_data_set = []\n",
    "total_import_count = 0\n",
    "for folder_path in import_folder_paths:\n",
    "    imported_data_set, imported_count = import_sound_data(folder_path)\n",
    "    train_data_set.extend(imported_data_set)\n",
    "    total_import_count += imported_count"
   ]
  },
  {
   "cell_type": "markdown",
   "metadata": {},
   "source": [
    "### Import Test Data"
   ]
  },
  {
   "cell_type": "code",
   "execution_count": 6,
   "metadata": {},
   "outputs": [
    {
     "name": "stdout",
     "output_type": "stream",
     "text": [
      "Import finish for folder:UrbanSound8K/sound_data/fold10\n"
     ]
    }
   ],
   "source": [
    "test_data_set = []\n",
    "imported_data_set, imported_count = import_sound_data(test_data_set_folder)\n",
    "test_data_set.extend(imported_data_set)"
   ]
  },
  {
   "cell_type": "markdown",
   "metadata": {},
   "source": [
    "### Train Data Model"
   ]
  },
  {
   "cell_type": "code",
   "execution_count": 7,
   "metadata": {},
   "outputs": [
    {
     "name": "stdout",
     "output_type": "stream",
     "text": [
      "Train data set count:29511\n",
      "Test data set count:837\n"
     ]
    }
   ],
   "source": [
    "print('Train data set count:{}'.format(len(train_data_set)))\n",
    "print('Test data set count:{}'.format(len(test_data_set)))\n",
    "\n",
    "random.shuffle(train_data_set)\n",
    "X_train, y_train = zip(*train_data_set)\n",
    "X_test, y_test = zip(*test_data_set)\n",
    "\n",
    "# Reshape for CNN input\n",
    "X_train = np.array([x.reshape( (128, 128, 1) ) for x in X_train])\n",
    "X_test = np.array([x.reshape( (128, 128, 1) ) for x in X_test])\n",
    "\n",
    "# One-Hot encoding for classes\n",
    "y_train = np.array(keras.utils.to_categorical(y_train, 10))\n",
    "y_test = np.array(keras.utils.to_categorical(y_test, 10))\n",
    "\n",
    "model = Sequential()\n",
    "\n",
    "# Input\n",
    "input_shape=(128, 128, 1)\n",
    "\n",
    "model.add(Conv2D(24, (5, 5), strides=(1, 1), input_shape=input_shape))\n",
    "\n",
    "model.add(MaxPooling2D((4, 2), strides=(4, 2)))\n",
    "model.add(Activation('relu'))\n",
    "\n",
    "model.add(Conv2D(48, (5, 5), padding=\"valid\"))\n",
    "\n",
    "model.add(MaxPooling2D((4, 2), strides=(4, 2)))\n",
    "model.add(Activation('relu'))\n",
    "\n",
    "model.add(Conv2D(48, (5, 5), padding=\"valid\"))\n",
    "model.add(Activation('relu'))\n",
    "\n",
    "model.add(Flatten())\n",
    "model.add(Dropout(rate=0.5))\n",
    "\n",
    "model.add(Dense(64))\n",
    "model.add(Activation('relu'))\n",
    "model.add(Dropout(rate=0.5))\n",
    "\n",
    "# Output\n",
    "model.add(Dense(10))\n",
    "model.add(Activation('softmax'))"
   ]
  },
  {
   "cell_type": "code",
   "execution_count": 8,
   "metadata": {},
   "outputs": [
    {
     "name": "stdout",
     "output_type": "stream",
     "text": [
      "Train on 29511 samples, validate on 837 samples\n",
      "Epoch 1/40\n",
      "29511/29511 [==============================] - 294s 10ms/step - loss: 2.0147 - acc: 0.3211 - val_loss: 1.7072 - val_acc: 0.4062\n",
      "Epoch 2/40\n",
      "29511/29511 [==============================] - 259s 9ms/step - loss: 1.5296 - acc: 0.4687 - val_loss: 1.6241 - val_acc: 0.4480\n",
      "Epoch 3/40\n",
      "29511/29511 [==============================] - 280s 9ms/step - loss: 1.3058 - acc: 0.5484 - val_loss: 1.4323 - val_acc: 0.4886\n",
      "Epoch 4/40\n",
      "29511/29511 [==============================] - 268s 9ms/step - loss: 1.1388 - acc: 0.6069 - val_loss: 1.3409 - val_acc: 0.5293\n",
      "Epoch 5/40\n",
      "29511/29511 [==============================] - 269s 9ms/step - loss: 1.0207 - acc: 0.6526 - val_loss: 1.3153 - val_acc: 0.5795\n",
      "Epoch 6/40\n",
      "29511/29511 [==============================] - 270s 9ms/step - loss: 0.9895 - acc: 0.6719 - val_loss: 1.2496 - val_acc: 0.6356\n",
      "Epoch 7/40\n",
      "29511/29511 [==============================] - 265s 9ms/step - loss: 0.8681 - acc: 0.7048 - val_loss: 1.1784 - val_acc: 0.6368\n",
      "Epoch 8/40\n",
      "29511/29511 [==============================] - 259s 9ms/step - loss: 0.7983 - acc: 0.7342 - val_loss: 1.3528 - val_acc: 0.5890\n",
      "Epoch 9/40\n",
      "29511/29511 [==============================] - 262s 9ms/step - loss: 0.7282 - acc: 0.7575 - val_loss: 1.1880 - val_acc: 0.6977\n",
      "Epoch 10/40\n",
      "29511/29511 [==============================] - 265s 9ms/step - loss: 0.6888 - acc: 0.7751 - val_loss: 1.2212 - val_acc: 0.6918\n",
      "Epoch 11/40\n",
      "29511/29511 [==============================] - 288s 10ms/step - loss: 0.6587 - acc: 0.7853 - val_loss: 1.1785 - val_acc: 0.6858\n",
      "Epoch 12/40\n",
      "29511/29511 [==============================] - 253s 9ms/step - loss: 0.6127 - acc: 0.7988 - val_loss: 1.1806 - val_acc: 0.6882\n",
      "Epoch 13/40\n",
      "29511/29511 [==============================] - 262s 9ms/step - loss: 0.5695 - acc: 0.8124 - val_loss: 1.2111 - val_acc: 0.6965\n",
      "Epoch 14/40\n",
      "29511/29511 [==============================] - 273s 9ms/step - loss: 0.5258 - acc: 0.8284 - val_loss: 1.2346 - val_acc: 0.7264\n",
      "Epoch 15/40\n",
      "29511/29511 [==============================] - 260s 9ms/step - loss: 0.5285 - acc: 0.8273 - val_loss: 1.2147 - val_acc: 0.7192\n",
      "Epoch 16/40\n",
      "29511/29511 [==============================] - 259s 9ms/step - loss: 0.5207 - acc: 0.8292 - val_loss: 1.2399 - val_acc: 0.7049\n",
      "Epoch 17/40\n",
      "29511/29511 [==============================] - 258s 9ms/step - loss: 0.4772 - acc: 0.8446 - val_loss: 1.2586 - val_acc: 0.7240\n",
      "Epoch 18/40\n",
      "29511/29511 [==============================] - 262s 9ms/step - loss: 0.4681 - acc: 0.8495 - val_loss: 1.3294 - val_acc: 0.6977\n",
      "Epoch 19/40\n",
      "29511/29511 [==============================] - 262s 9ms/step - loss: 0.4632 - acc: 0.8513 - val_loss: 1.2540 - val_acc: 0.7216\n",
      "Epoch 20/40\n",
      "29511/29511 [==============================] - 260s 9ms/step - loss: 0.4959 - acc: 0.8458 - val_loss: 1.3888 - val_acc: 0.7109\n",
      "Epoch 21/40\n",
      "29511/29511 [==============================] - 260s 9ms/step - loss: 0.4226 - acc: 0.8637 - val_loss: 1.2719 - val_acc: 0.7288\n",
      "Epoch 22/40\n",
      "29511/29511 [==============================] - 260s 9ms/step - loss: 0.4174 - acc: 0.8664 - val_loss: 1.4850 - val_acc: 0.6977\n",
      "Epoch 23/40\n",
      "29511/29511 [==============================] - 259s 9ms/step - loss: 0.4025 - acc: 0.8727 - val_loss: 1.4014 - val_acc: 0.7276\n",
      "Epoch 24/40\n",
      "29511/29511 [==============================] - 258s 9ms/step - loss: 0.3641 - acc: 0.8827 - val_loss: 1.4089 - val_acc: 0.7419\n",
      "Epoch 25/40\n",
      "29511/29511 [==============================] - 260s 9ms/step - loss: 0.3623 - acc: 0.8843 - val_loss: 1.6122 - val_acc: 0.7192\n",
      "Epoch 26/40\n",
      "29511/29511 [==============================] - 259s 9ms/step - loss: 0.3367 - acc: 0.8919 - val_loss: 1.3677 - val_acc: 0.7192\n",
      "Epoch 27/40\n",
      "29511/29511 [==============================] - 260s 9ms/step - loss: 0.3381 - acc: 0.8917 - val_loss: 1.3752 - val_acc: 0.7276\n",
      "Epoch 28/40\n",
      "29511/29511 [==============================] - 261s 9ms/step - loss: 0.3284 - acc: 0.8950 - val_loss: 1.5604 - val_acc: 0.7276\n",
      "Epoch 29/40\n",
      "29511/29511 [==============================] - 259s 9ms/step - loss: 0.3220 - acc: 0.8967 - val_loss: 1.5192 - val_acc: 0.7157\n",
      "Epoch 30/40\n",
      "29511/29511 [==============================] - 260s 9ms/step - loss: 0.3239 - acc: 0.8952 - val_loss: 1.4544 - val_acc: 0.7228\n",
      "Epoch 31/40\n",
      "29511/29511 [==============================] - 260s 9ms/step - loss: 0.3234 - acc: 0.8955 - val_loss: 1.4798 - val_acc: 0.7228\n",
      "Epoch 32/40\n",
      "29511/29511 [==============================] - 261s 9ms/step - loss: 0.3381 - acc: 0.8953 - val_loss: 1.5268 - val_acc: 0.7336\n",
      "Epoch 33/40\n",
      "29511/29511 [==============================] - 260s 9ms/step - loss: 0.3286 - acc: 0.8955 - val_loss: 1.4061 - val_acc: 0.7312\n",
      "Epoch 34/40\n",
      "29511/29511 [==============================] - 261s 9ms/step - loss: 0.2818 - acc: 0.9096 - val_loss: 1.5910 - val_acc: 0.7121\n",
      "Epoch 35/40\n",
      "29511/29511 [==============================] - 259s 9ms/step - loss: 0.2996 - acc: 0.9055 - val_loss: 1.6543 - val_acc: 0.7288\n",
      "Epoch 36/40\n",
      "29511/29511 [==============================] - 261s 9ms/step - loss: 0.3081 - acc: 0.9060 - val_loss: 1.5669 - val_acc: 0.7312\n",
      "Epoch 37/40\n",
      "29511/29511 [==============================] - 261s 9ms/step - loss: 0.2843 - acc: 0.9092 - val_loss: 1.6269 - val_acc: 0.7228\n",
      "Epoch 38/40\n",
      "29511/29511 [==============================] - 262s 9ms/step - loss: 0.2624 - acc: 0.9178 - val_loss: 1.4510 - val_acc: 0.7360\n",
      "Epoch 39/40\n",
      "29511/29511 [==============================] - 252s 9ms/step - loss: 0.2746 - acc: 0.9138 - val_loss: 1.6077 - val_acc: 0.7276\n",
      "Epoch 40/40\n",
      "29511/29511 [==============================] - 262s 9ms/step - loss: 0.2315 - acc: 0.9270 - val_loss: 1.6529 - val_acc: 0.7431\n",
      "837/837 [==============================] - 3s 4ms/step\n",
      "('Test loss:', 1.65294261858882)\n",
      "('Test accuracy:', 0.743130227072407)\n"
     ]
    }
   ],
   "source": [
    "model.compile(\n",
    "    optimizer=\"Adam\",\n",
    "    loss=\"categorical_crossentropy\",\n",
    "    metrics=['accuracy'])\n",
    "\n",
    "history = model.fit(\n",
    "    x=X_train,\n",
    "    y=y_train,\n",
    "    epochs=epochs,\n",
    "    batch_size=batch_size,\n",
    "    validation_data= (X_test, y_test)\n",
    ")\n",
    "\n",
    "score = model.evaluate(\n",
    "    x=X_test,\n",
    "    y=y_test)\n",
    "\n",
    "print('Test loss:', score[0])\n",
    "print('Test accuracy:', score[1])"
   ]
  },
  {
   "cell_type": "code",
   "execution_count": 9,
   "metadata": {},
   "outputs": [
    {
     "data": {
      "image/png": "[encoded data removed]",
      "text/plain": [
       "<Figure size 432x288 with 1 Axes>"
      ]
     },
     "metadata": {
      "needs_background": "light"
     },
     "output_type": "display_data"
    }
   ],
   "source": [
    "# summarize history for accuracy\n",
    "plt.plot(history.history['acc'])\n",
    "plt.plot(history.history['val_acc'])\n",
    "plt.title('model accuracy')\n",
    "plt.ylabel('accuracy')\n",
    "plt.xlabel('epoch')\n",
    "plt.legend(['train', 'test'], loc='upper left')\n",
    "plt.show()"
   ]
  },
  {
   "cell_type": "code",
   "execution_count": 10,
   "metadata": {},
   "outputs": [],
   "source": [
    "model.save('models/sound_cnn_74.h5')"
   ]
  },
  {
   "cell_type": "markdown",
   "metadata": {},
   "source": [
    "### Train Data Model"
   ]
  }
 ],
 "metadata": {
  "kernelspec": {
   "display_name": "Python 2",
   "language": "python",
   "name": "python2"
  },
  "language_info": {
   "codemirror_mode": {
    "name": "ipython",
    "version": 2
   },
   "file_extension": ".py",
   "mimetype": "text/x-python",
   "name": "python",
   "nbconvert_exporter": "python",
   "pygments_lexer": "ipython2",
   "version": "2.7.15"
  }
 },
 "nbformat": 4,
 "nbformat_minor": 2
}
