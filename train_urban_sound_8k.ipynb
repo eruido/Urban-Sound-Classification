{
 "cells": [
  {
   "cell_type": "code",
   "execution_count": 1,
   "metadata": {},
   "outputs": [
    {
     "name": "stderr",
     "output_type": "stream",
     "text": [
      "Using TensorFlow backend.\n"
     ]
    }
   ],
   "source": [
    "import keras\n",
    "from keras.layers import Activation, Dense, Dropout, Conv2D, \\\n",
    "                         Flatten, MaxPooling2D\n",
    "from keras.models import Sequential\n",
    "from keras.callbacks import TensorBoard\n",
    "import librosa\n",
    "import librosa.display\n",
    "import numpy as np\n",
    "import pandas as pd\n",
    "import random\n",
    "import os\n",
    "import time\n",
    "import matplotlib.pyplot as plt\n",
    "%matplotlib inline"
   ]
  },
  {
   "cell_type": "code",
   "execution_count": 2,
   "metadata": {},
   "outputs": [],
   "source": [
    "data_set_folder = 'UrbanSound8K/sound_data'\n",
    "test_data_set_folder = 'UrbanSound8K/sound_data/fold10'\n",
    "black_list_folders = ['fold10'] # reserve for validation set\n",
    "import_folder_paths = []\n",
    "target_wav_duration = 2.97\n",
    "wav_data_shape_x = 128\n",
    "wav_data_shape_y = 128\n",
    "batch_size = 128\n",
    "epochs = 20"
   ]
  },
  {
   "cell_type": "code",
   "execution_count": 8,
   "metadata": {},
   "outputs": [],
   "source": [
    "def extract_feature(file_path):\n",
    "    y, sr = librosa.load(file_path, duration=target_wav_duration)\n",
    "    ps = librosa.feature.melspectrogram(y=y, sr=sr)\n",
    "    if ps.shape != (wav_data_shape_x, wav_data_shape_y):\n",
    "        return None, None\n",
    "    return ps, sr\n",
    "\n",
    "def import_sound_data(folder_path):\n",
    "    imported_count = 0\n",
    "    imported_data_set = []\n",
    "    for root, _, files in os.walk(folder_path):\n",
    "        for file in files:\n",
    "            file_name, file_extension = os.path.splitext(file)\n",
    "            if file_extension != '.wav': continue\n",
    "            file_path = os.path.join(root, file)\n",
    "            ps, sr = extract_feature(file_path)\n",
    "            if sr == None:\n",
    "                continue\n",
    "            class_id = file.split('-')[1]\n",
    "            imported_data_set.append((ps, class_id))\n",
    "            imported_count += 1\n",
    "            if imported_count % 200 == 0:\n",
    "                print('Import in progress...{}'.format(imported_count))\n",
    "    print('Import finish')\n",
    "    return imported_data_set, imported_count"
   ]
  },
  {
   "cell_type": "code",
   "execution_count": 4,
   "metadata": {},
   "outputs": [],
   "source": [
    "import_folder_paths = []\n",
    "for root, dirnames, _ in os.walk(data_set_folder):\n",
    "    for dir_name in dirnames:\n",
    "        if dir_name in black_list_folders:\n",
    "            continue\n",
    "        wav_folder_path = os.path.join(root, dir_name)\n",
    "        import_folder_paths.append(wav_folder_path)\n",
    "#print('import_folder_paths:{}'.format(import_folder_paths))"
   ]
  },
  {
   "cell_type": "markdown",
   "metadata": {},
   "source": [
    "### Import Train Data"
   ]
  },
  {
   "cell_type": "code",
   "execution_count": 12,
   "metadata": {},
   "outputs": [
    {
     "name": "stdout",
     "output_type": "stream",
     "text": [
      "Import in progress...200\n",
      "Import in progress...400\n",
      "Import in progress...600\n",
      "Import in progress...800\n",
      "Import in progress...1000\n",
      "Import in progress...1200\n",
      "Import in progress...1400\n",
      "Import in progress...1600\n",
      "Import in progress...1800\n",
      "Import in progress...2000\n",
      "Import in progress...2200\n",
      "Import in progress...2400\n",
      "Import in progress...2600\n",
      "Import in progress...2800\n",
      "Import in progress...3000\n",
      "Import finish\n"
     ]
    }
   ],
   "source": [
    "train_data_set = []\n",
    "total_import_count = 0\n",
    "for folder_path in import_folder_paths:\n",
    "    imported_data_set, imported_count = import_sound_data(folder_path)\n",
    "    train_data_set.extend(imported_data_set)\n",
    "    total_import_count += imported_count"
   ]
  },
  {
   "cell_type": "markdown",
   "metadata": {},
   "source": [
    "### Import Test Data"
   ]
  },
  {
   "cell_type": "code",
   "execution_count": 7,
   "metadata": {},
   "outputs": [
    {
     "name": "stdout",
     "output_type": "stream",
     "text": [
      "Import in progress...200\n",
      "Import in progress...400\n",
      "Import in progress...600\n",
      "Import in progress...800\n"
     ]
    }
   ],
   "source": [
    "test_data_set = []\n",
    "imported_data_set, imported_count = import_sound_data(test_data_set_folder)\n",
    "test_data_set.extend(imported_data_set)"
   ]
  },
  {
   "cell_type": "markdown",
   "metadata": {},
   "source": [
    "### Train Data Model"
   ]
  },
  {
   "cell_type": "code",
   "execution_count": 13,
   "metadata": {},
   "outputs": [
    {
     "name": "stdout",
     "output_type": "stream",
     "text": [
      "Train data set count:3001\n",
      "Test data set count:837\n"
     ]
    }
   ],
   "source": [
    "print('Train data set count:{}'.format(len(train_data_set)))\n",
    "print('Test data set count:{}'.format(len(test_data_set)))\n",
    "\n",
    "random.shuffle(train_data_set)\n",
    "X_train, y_train = zip(*train_data_set)\n",
    "X_test, y_test = zip(*test_data_set)\n",
    "\n",
    "# Reshape for CNN input\n",
    "X_train = np.array([x.reshape( (128, 128, 1) ) for x in X_train])\n",
    "X_test = np.array([x.reshape( (128, 128, 1) ) for x in X_test])\n",
    "\n",
    "# One-Hot encoding for classes\n",
    "y_train = np.array(keras.utils.to_categorical(y_train, 10))\n",
    "y_test = np.array(keras.utils.to_categorical(y_test, 10))\n",
    "\n",
    "model = Sequential()\n",
    "\n",
    "# Input\n",
    "input_shape=(128, 128, 1)\n",
    "\n",
    "model.add(Conv2D(24, (5, 5), strides=(1, 1), input_shape=input_shape))\n",
    "\n",
    "model.add(MaxPooling2D((4, 2), strides=(4, 2)))\n",
    "model.add(Activation('relu'))\n",
    "\n",
    "model.add(Conv2D(48, (5, 5), padding=\"valid\"))\n",
    "\n",
    "model.add(MaxPooling2D((4, 2), strides=(4, 2)))\n",
    "model.add(Activation('relu'))\n",
    "\n",
    "model.add(Conv2D(48, (5, 5), padding=\"valid\"))\n",
    "model.add(Activation('relu'))\n",
    "\n",
    "model.add(Flatten())\n",
    "model.add(Dropout(rate=0.5))\n",
    "\n",
    "model.add(Dense(64))\n",
    "model.add(Activation('relu'))\n",
    "model.add(Dropout(rate=0.5))\n",
    "\n",
    "# Output\n",
    "model.add(Dense(10))\n",
    "model.add(Activation('softmax'))"
   ]
  },
  {
   "cell_type": "code",
   "execution_count": 14,
   "metadata": {},
   "outputs": [
    {
     "name": "stdout",
     "output_type": "stream",
     "text": [
      "Train on 3001 samples, validate on 837 samples\n",
      "Epoch 1/12\n",
      "3001/3001 [==============================] - 29s 10ms/step - loss: 2.5394 - acc: 0.1933 - val_loss: 2.6917 - val_acc: 0.2485\n",
      "Epoch 2/12\n",
      "3001/3001 [==============================] - 29s 10ms/step - loss: 2.0510 - acc: 0.3389 - val_loss: 2.6772 - val_acc: 0.2700\n",
      "Epoch 3/12\n",
      "3001/3001 [==============================] - 29s 10ms/step - loss: 1.8623 - acc: 0.4085 - val_loss: 2.6415 - val_acc: 0.2975\n",
      "Epoch 4/12\n",
      "3001/3001 [==============================] - 28s 9ms/step - loss: 1.6278 - acc: 0.4762 - val_loss: 2.8039 - val_acc: 0.3381\n",
      "Epoch 5/12\n",
      "3001/3001 [==============================] - 29s 10ms/step - loss: 1.4484 - acc: 0.5162 - val_loss: 2.6884 - val_acc: 0.3250\n",
      "Epoch 6/12\n",
      "3001/3001 [==============================] - 29s 10ms/step - loss: 1.3359 - acc: 0.5548 - val_loss: 2.9062 - val_acc: 0.3513\n",
      "Epoch 7/12\n",
      "3001/3001 [==============================] - 29s 10ms/step - loss: 1.2525 - acc: 0.5828 - val_loss: 2.8603 - val_acc: 0.3286\n",
      "Epoch 8/12\n",
      "3001/3001 [==============================] - 29s 10ms/step - loss: 1.1255 - acc: 0.6181 - val_loss: 2.4856 - val_acc: 0.3763\n",
      "Epoch 9/12\n",
      "3001/3001 [==============================] - 29s 10ms/step - loss: 0.9915 - acc: 0.6485 - val_loss: 2.5159 - val_acc: 0.4014\n",
      "Epoch 10/12\n",
      "3001/3001 [==============================] - 29s 10ms/step - loss: 0.9372 - acc: 0.6811 - val_loss: 2.6218 - val_acc: 0.4182\n",
      "Epoch 11/12\n",
      "3001/3001 [==============================] - 28s 9ms/step - loss: 0.9170 - acc: 0.6811 - val_loss: 2.6224 - val_acc: 0.4349\n",
      "Epoch 12/12\n",
      "3001/3001 [==============================] - 29s 10ms/step - loss: 0.8307 - acc: 0.7178 - val_loss: 2.9712 - val_acc: 0.4528\n",
      "837/837 [==============================] - 3s 3ms/step\n",
      "('Test loss:', 2.9712341387212065)\n",
      "('Test accuracy:', 0.4528076464272457)\n"
     ]
    }
   ],
   "source": [
    "model.compile(\n",
    "    optimizer=\"Adam\",\n",
    "    loss=\"categorical_crossentropy\",\n",
    "    metrics=['accuracy'])\n",
    "\n",
    "history = model.fit(\n",
    "    x=X_train,\n",
    "    y=y_train,\n",
    "    epochs=epochs,\n",
    "    batch_size=batch_size,\n",
    "    validation_data= (X_test, y_test)\n",
    ")\n",
    "\n",
    "score = model.evaluate(\n",
    "    x=X_test,\n",
    "    y=y_test)\n",
    "\n",
    "print('Test loss:', score[0])\n",
    "print('Test accuracy:', score[1])"
   ]
  },
  {
   "cell_type": "code",
   "execution_count": 15,
   "metadata": {},
   "outputs": [
    {
     "data": {
      "image/png": "[encoded data removed]",
      "text/plain": [
       "<Figure size 432x288 with 1 Axes>"
      ]
     },
     "metadata": {
      "needs_background": "light"
     },
     "output_type": "display_data"
    }
   ],
   "source": [
    "# summarize history for accuracy\n",
    "plt.plot(history.history['acc'])\n",
    "plt.plot(history.history['val_acc'])\n",
    "plt.title('model accuracy')\n",
    "plt.ylabel('accuracy')\n",
    "plt.xlabel('epoch')\n",
    "plt.legend(['train', 'test'], loc='upper left')\n",
    "plt.show()"
   ]
  },
  {
   "cell_type": "code",
   "execution_count": 16,
   "metadata": {},
   "outputs": [],
   "source": [
    "model.save('models/sound_cnn.h5')"
   ]
  },
  {
   "cell_type": "markdown",
   "metadata": {},
   "source": [
    "### Train Data Model"
   ]
  }
 ],
 "metadata": {
  "kernelspec": {
   "display_name": "Python 2",
   "language": "python",
   "name": "python2"
  },
  "language_info": {
   "codemirror_mode": {
    "name": "ipython",
    "version": 2
   },
   "file_extension": ".py",
   "mimetype": "text/x-python",
   "name": "python",
   "nbconvert_exporter": "python",
   "pygments_lexer": "ipython2",
   "version": "2.7.15"
  }
 },
 "nbformat": 4,
 "nbformat_minor": 2
}
