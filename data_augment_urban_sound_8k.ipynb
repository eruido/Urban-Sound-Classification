{
 "cells": [
  {
   "cell_type": "markdown",
   "metadata": {},
   "source": [
    "# Import Dependencies"
   ]
  },
  {
   "cell_type": "code",
   "execution_count": 2,
   "metadata": {},
   "outputs": [],
   "source": [
    "import librosa\n",
    "import librosa.display\n",
    "import numpy as np\n",
    "import pandas as pd\n",
    "import os\n",
    "import time\n",
    "from pydub import AudioSegment\n",
    "from pydub.playback import play"
   ]
  },
  {
   "cell_type": "markdown",
   "metadata": {},
   "source": [
    "## Global Variables"
   ]
  },
  {
   "cell_type": "code",
   "execution_count": 3,
   "metadata": {},
   "outputs": [],
   "source": [
    "data_set_folder = 'UrbanSound8K/audio'\n",
    "temp_folder_path = 'UrbanSound8K/tmp'\n",
    "output_folder_path = 'UrbanSound8K/sound_data'\n",
    "black_list_folders = ['fold10'] # reserve for validation set\n",
    "import_folder_paths = []\n",
    "target_wav_duration = 4.00\n",
    "pitch_sounds = [-1, 1]\n",
    "vary_sounds = [0.93, 1.07]"
   ]
  },
  {
   "cell_type": "markdown",
   "metadata": {},
   "source": [
    "## Common Functions"
   ]
  },
  {
   "cell_type": "code",
   "execution_count": 4,
   "metadata": {},
   "outputs": [],
   "source": [
    "def create_directory_if_not_exist(directory):\n",
    "    if not os.path.exists(directory):\n",
    "        os.makedirs(directory)"
   ]
  },
  {
   "cell_type": "markdown",
   "metadata": {},
   "source": [
    "## Sound Augment Functions"
   ]
  },
  {
   "cell_type": "code",
   "execution_count": 7,
   "metadata": {},
   "outputs": [],
   "source": [
    "def augment_sound(file_path, folder_path):\n",
    "    folder_name = folder_path.split('/')[-1]\n",
    "    file_name = file_path.split('/')[-1].split('.')[0]\n",
    "    out_dir = output_folder_path + '/' + folder_name\n",
    "    \n",
    "    create_directory_if_not_exist(out_dir)\n",
    "    \n",
    "    sound_file_path = file_path\n",
    "    y, sr = librosa.load(sound_file_path)\n",
    "    wav_duration = librosa.get_duration(y=y, sr=sr)\n",
    "    \n",
    "    if wav_duration < target_wav_duration:\n",
    "        sound_file_path = add_slient_to_sound(sound_file_path, wav_duration)    \n",
    "    y, sr = librosa.load(sound_file_path, duration=target_wav_duration)\n",
    "    librosa.output.write_wav(out_dir + '/' + file_name + '.wav', y, sr)\n",
    "    \n",
    "    for rate in vary_sounds:\n",
    "        stretched_wav, sr = stretch_wav(file_path, rate)\n",
    "        stretched_file_name = file_name + '_vary_' + str(rate) + '.wav'\n",
    "        librosa.output.write_wav(out_dir + '/' + stretched_file_name, stretched_wav, sr)\n",
    "    \n",
    "    for pitch_rate in pitch_sounds:\n",
    "        pitched_wav, sr = shift_wav(file_path, pitch_rate)\n",
    "        pitched_file_name = file_name + '_pitch_' + str(pitch_rate) + '.wav'\n",
    "        librosa.output.write_wav(out_dir + '/' + pitched_file_name, pitched_wav, sr)\n",
    "        \n",
    "    if sound_file_path.find('tmp') > -1:\n",
    "        os.remove(sound_file_path)\n",
    "    \n",
    "def add_slient_to_sound(file_path, wav_duration):\n",
    "    slient_duration = ((target_wav_duration - wav_duration) * 1000) / 2\n",
    "    if slient_duration < 0:\n",
    "        return file_path\n",
    "    left_slient_segment = AudioSegment.silent(duration=slient_duration)\n",
    "    right_slient_segment = AudioSegment.silent(duration=slient_duration)\n",
    "    sound = AudioSegment.from_wav(file_path)\n",
    "    file_name = file_path.split('/')[-1]\n",
    "    final_sound = left_slient_segment + sound + right_slient_segment\n",
    "    final_sound_path = temp_folder_path + '/' + file_name\n",
    "    final_sound.export(final_sound_path, format=\"wav\")\n",
    "    return final_sound_path\n",
    "\n",
    "def stretch_wav(wav_file, rate):\n",
    "    y, sr = librosa.load(wav_file)\n",
    "    stretched_wav = librosa.effects.time_stretch(y, rate=rate)\n",
    "    return (stretched_wav, sr)\n",
    "\n",
    "def shift_wav(wav_file, steps):\n",
    "    y, sr = librosa.load(wav_file)\n",
    "    shift_wav = librosa.effects.pitch_shift(y, sr, n_steps=steps)\n",
    "    return (shift_wav, sr)"
   ]
  },
  {
   "cell_type": "markdown",
   "metadata": {},
   "source": [
    "## Augment Wav Files"
   ]
  },
  {
   "cell_type": "code",
   "execution_count": 8,
   "metadata": {},
   "outputs": [
    {
     "name": "stdout",
     "output_type": "stream",
     "text": [
      "wav folder path:UrbanSound8K/audio/fold10\n"
     ]
    }
   ],
   "source": [
    "global import_folder_paths\n",
    "for root, dirnames, _ in os.walk(data_set_folder):\n",
    "    for dir_name in dirnames:\n",
    "        if dir_name in black_list_folders:\n",
    "            continue\n",
    "        wav_folder_path = os.path.join(root, dir_name)\n",
    "        import_folder_paths.append(wav_folder_path)\n",
    "print('wav folder path:{}'.format(wav_folder_path))"
   ]
  },
  {
   "cell_type": "code",
   "execution_count": null,
   "metadata": {},
   "outputs": [
    {
     "name": "stdout",
     "output_type": "stream",
     "text": [
      "Training in progress: 0\n",
      "Training in progress: 100\n",
      "Training in progress: 200\n",
      "Training in progress: 300\n",
      "Training in progress: 400\n",
      "Training in progress: 500\n",
      "Training in progress: 600\n",
      "Training in progress: 700\n",
      "Training in progress: 800\n",
      "Training in progress: 900\n",
      "Training in progress: 1000\n"
     ]
    }
   ],
   "source": [
    "imported_counter = 0\n",
    "for folder_path in import_folder_paths:\n",
    "    for root, _, files in os.walk(folder_path):\n",
    "        for file in files:\n",
    "            file_name, file_extension = os.path.splitext(file)\n",
    "            if file_extension != '.wav': continue\n",
    "            if imported_counter % 100 == 0:\n",
    "                print('Training in progress: {}'.format(imported_counter))\n",
    "            file_path = os.path.join(root, file)\n",
    "            augment_sound(file_path, folder_path)\n",
    "            imported_counter += 1\n",
    "print('Finish')"
   ]
  },
  {
   "cell_type": "code",
   "execution_count": null,
   "metadata": {},
   "outputs": [],
   "source": [
    "\n",
    "            "
   ]
  },
  {
   "cell_type": "code",
   "execution_count": null,
   "metadata": {},
   "outputs": [],
   "source": []
  }
 ],
 "metadata": {
  "kernelspec": {
   "display_name": "Python 2",
   "language": "python",
   "name": "python2"
  },
  "language_info": {
   "codemirror_mode": {
    "name": "ipython",
    "version": 2
   },
   "file_extension": ".py",
   "mimetype": "text/x-python",
   "name": "python",
   "nbconvert_exporter": "python",
   "pygments_lexer": "ipython2",
   "version": "2.7.15"
  }
 },
 "nbformat": 4,
 "nbformat_minor": 2
}
