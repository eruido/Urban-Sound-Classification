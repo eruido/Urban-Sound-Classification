{
 "cells": [
  {
   "cell_type": "code",
   "execution_count": 1,
   "metadata": {},
   "outputs": [
    {
     "name": "stderr",
     "output_type": "stream",
     "text": [
      "Using TensorFlow backend.\n"
     ]
    }
   ],
   "source": [
    "import keras\n",
    "from keras.layers import Activation, Dense, Dropout, Conv2D, \\\n",
    "                         Flatten, MaxPooling2D\n",
    "from keras.models import Sequential\n",
    "from keras.callbacks import TensorBoard\n",
    "from keras.models import load_model\n",
    "import librosa\n",
    "import librosa.display\n",
    "import numpy as np\n",
    "import pandas as pd\n",
    "import random\n",
    "import os\n",
    "import time\n",
    "import matplotlib.pyplot as plt\n",
    "%matplotlib inline"
   ]
  },
  {
   "cell_type": "code",
   "execution_count": 2,
   "metadata": {},
   "outputs": [],
   "source": [
    "root = 'ToiletSoundSet'\n",
    "data_set_folder = root + '/sound_data'\n",
    "test_data_set_folder = root + '/validate_data'\n",
    "target_wav_duration = 2.97\n",
    "wav_data_shape_x = 128\n",
    "wav_data_shape_y = 128\n",
    "total_class_label = 7\n",
    "batch_size = 128\n",
    "epochs = 12"
   ]
  },
  {
   "cell_type": "markdown",
   "metadata": {},
   "source": [
    "### Common Functions"
   ]
  },
  {
   "cell_type": "code",
   "execution_count": 3,
   "metadata": {},
   "outputs": [],
   "source": [
    "def extract_feature(file_path):\n",
    "    y, sr = librosa.load(file_path, duration=target_wav_duration)\n",
    "    ps = librosa.feature.melspectrogram(y=y, sr=sr)\n",
    "    if ps.shape != (wav_data_shape_x, wav_data_shape_y):\n",
    "        return None, None\n",
    "    return ps, sr\n",
    "\n",
    "def import_sound_data(folder_path):\n",
    "    imported_count = 0\n",
    "    imported_data_set = []\n",
    "    for root, _, files in os.walk(folder_path):\n",
    "        for file in files:\n",
    "            file_name, file_extension = os.path.splitext(file)\n",
    "            if file_extension != '.wav': continue\n",
    "            file_path = os.path.join(root, file)\n",
    "            ps, sr = extract_feature(file_path)\n",
    "            if sr == None:\n",
    "                continue\n",
    "            class_id = file_name.split('-')[1]\n",
    "            imported_data_set.append((ps, class_id))\n",
    "            imported_count += 1\n",
    "    print('Import finish for folder:{}'.format(folder_path))\n",
    "    return imported_data_set, imported_count"
   ]
  },
  {
   "cell_type": "markdown",
   "metadata": {},
   "source": [
    "### Import Train Data Set"
   ]
  },
  {
   "cell_type": "code",
   "execution_count": 4,
   "metadata": {},
   "outputs": [
    {
     "name": "stdout",
     "output_type": "stream",
     "text": [
      "import_folder_paths:['ToiletSoundSet/sound_data/toilet_flush', 'ToiletSoundSet/sound_data/children_playing', 'ToiletSoundSet/sound_data/shower', 'ToiletSoundSet/sound_data/clapping', 'ToiletSoundSet/sound_data/dog_bark', 'ToiletSoundSet/sound_data/broken_glass', 'ToiletSoundSet/sound_data/door']\n"
     ]
    }
   ],
   "source": [
    "train_folder_paths = []\n",
    "for root, dirnames, _ in os.walk(data_set_folder):\n",
    "    for dir_name in dirnames:\n",
    "        wav_folder_path = os.path.join(root, dir_name)\n",
    "        train_folder_paths.append(wav_folder_path)\n",
    "print('import_folder_paths:{}'.format(train_folder_paths))"
   ]
  },
  {
   "cell_type": "code",
   "execution_count": 5,
   "metadata": {},
   "outputs": [
    {
     "name": "stdout",
     "output_type": "stream",
     "text": [
      "Import finish for folder:ToiletSoundSet/sound_data/toilet_flush\n",
      "Import finish for folder:ToiletSoundSet/sound_data/children_playing\n",
      "Import finish for folder:ToiletSoundSet/sound_data/shower\n",
      "Import finish for folder:ToiletSoundSet/sound_data/clapping\n",
      "Import finish for folder:ToiletSoundSet/sound_data/dog_bark\n",
      "Import finish for folder:ToiletSoundSet/sound_data/broken_glass\n",
      "Import finish for folder:ToiletSoundSet/sound_data/door\n"
     ]
    }
   ],
   "source": [
    "train_data_set = []\n",
    "total_import_count = 0\n",
    "for folder_path in train_folder_paths:\n",
    "    imported_data_set, imported_count = import_sound_data(folder_path)\n",
    "    train_data_set.extend(imported_data_set)\n",
    "    total_import_count += imported_count"
   ]
  },
  {
   "cell_type": "markdown",
   "metadata": {},
   "source": [
    "### Import Validate Data Set"
   ]
  },
  {
   "cell_type": "code",
   "execution_count": 7,
   "metadata": {},
   "outputs": [
    {
     "name": "stdout",
     "output_type": "stream",
     "text": [
      "test_folder_paths:['ToiletSoundSet/validate_data/toilet_flush', 'ToiletSoundSet/validate_data/children_playing', 'ToiletSoundSet/validate_data/shower', 'ToiletSoundSet/validate_data/clapping', 'ToiletSoundSet/validate_data/dog_bark', 'ToiletSoundSet/validate_data/broken_glass', 'ToiletSoundSet/validate_data/door']\n"
     ]
    }
   ],
   "source": [
    "test_folder_paths = []\n",
    "for root, dirnames, _ in os.walk(test_data_set_folder):\n",
    "    for dir_name in dirnames:\n",
    "        wav_folder_path = os.path.join(root, dir_name)\n",
    "        test_folder_paths.append(wav_folder_path)\n",
    "print('test_folder_paths:{}'.format(test_folder_paths))"
   ]
  },
  {
   "cell_type": "code",
   "execution_count": 8,
   "metadata": {},
   "outputs": [
    {
     "name": "stdout",
     "output_type": "stream",
     "text": [
      "Import finish for folder:ToiletSoundSet/validate_data/toilet_flush\n",
      "Import finish for folder:ToiletSoundSet/validate_data/children_playing\n",
      "Import finish for folder:ToiletSoundSet/validate_data/shower\n",
      "Import finish for folder:ToiletSoundSet/validate_data/clapping\n",
      "Import finish for folder:ToiletSoundSet/validate_data/dog_bark\n",
      "Import finish for folder:ToiletSoundSet/validate_data/broken_glass\n",
      "Import finish for folder:ToiletSoundSet/validate_data/door\n"
     ]
    }
   ],
   "source": [
    "test_data_set = []\n",
    "test_import_count = 0\n",
    "for folder_path in test_folder_paths:\n",
    "    imported_data_set, imported_count = import_sound_data(folder_path)\n",
    "    test_data_set.extend(imported_data_set)\n",
    "    test_import_count += imported_count"
   ]
  },
  {
   "cell_type": "markdown",
   "metadata": {},
   "source": [
    "### Train Model"
   ]
  },
  {
   "cell_type": "code",
   "execution_count": 9,
   "metadata": {},
   "outputs": [
    {
     "name": "stdout",
     "output_type": "stream",
     "text": [
      "Train data set count:2744\n",
      "Test data set count:204\n"
     ]
    }
   ],
   "source": [
    "print('Train data set count:{}'.format(len(train_data_set)))\n",
    "print('Test data set count:{}'.format(len(test_data_set)))\n",
    "\n",
    "random.shuffle(train_data_set)\n",
    "random.shuffle(test_data_set)\n",
    "X_train, y_train = zip(*train_data_set)\n",
    "X_test, y_test = zip(*test_data_set)\n",
    "\n",
    "# Reshape for CNN input\n",
    "X_train = np.array([x.reshape( (wav_data_shape_x, wav_data_shape_y, 1) ) for x in X_train])\n",
    "X_test = np.array([x.reshape( (wav_data_shape_x, wav_data_shape_y, 1) ) for x in X_test])\n",
    "\n",
    "# One-Hot encoding for classes\n",
    "y_train = np.array(keras.utils.to_categorical(y_train, total_class_label))\n",
    "y_test = np.array(keras.utils.to_categorical(y_test, total_class_label))"
   ]
  },
  {
   "cell_type": "code",
   "execution_count": 10,
   "metadata": {},
   "outputs": [],
   "source": [
    "model = Sequential()\n",
    "\n",
    "# Input\n",
    "input_shape=(wav_data_shape_x, wav_data_shape_y, 1)\n",
    "\n",
    "model.add(Conv2D(24, (5, 5), strides=(1, 1), input_shape=input_shape))\n",
    "\n",
    "model.add(MaxPooling2D((4, 2), strides=(4, 2)))\n",
    "model.add(Activation('relu'))\n",
    "\n",
    "model.add(Conv2D(48, (5, 5), padding=\"valid\"))\n",
    "\n",
    "model.add(MaxPooling2D((4, 2), strides=(4, 2)))\n",
    "model.add(Activation('relu'))\n",
    "\n",
    "model.add(Conv2D(48, (5, 5), padding=\"valid\"))\n",
    "model.add(Activation('relu'))\n",
    "\n",
    "model.add(Flatten())\n",
    "model.add(Dropout(rate=0.5))\n",
    "\n",
    "model.add(Dense(64))\n",
    "model.add(Activation('relu'))\n",
    "model.add(Dropout(rate=0.5))\n",
    "\n",
    "# Output\n",
    "model.add(Dense(total_class_label))\n",
    "model.add(Activation('softmax'))"
   ]
  },
  {
   "cell_type": "code",
   "execution_count": 11,
   "metadata": {},
   "outputs": [
    {
     "name": "stdout",
     "output_type": "stream",
     "text": [
      "Train on 2744 samples, validate on 204 samples\n",
      "Epoch 1/12\n",
      "2744/2744 [==============================] - 28s 10ms/step - loss: 2.2772 - acc: 0.3079 - val_loss: 1.8909 - val_acc: 0.4265\n",
      "Epoch 2/12\n",
      "2744/2744 [==============================] - 27s 10ms/step - loss: 1.7022 - acc: 0.4698 - val_loss: 1.8456 - val_acc: 0.4951\n",
      "Epoch 3/12\n",
      "2744/2744 [==============================] - 27s 10ms/step - loss: 1.4713 - acc: 0.5532 - val_loss: 2.0430 - val_acc: 0.5637\n",
      "Epoch 4/12\n",
      "2744/2744 [==============================] - 27s 10ms/step - loss: 1.3044 - acc: 0.5926 - val_loss: 1.9686 - val_acc: 0.6176\n",
      "Epoch 5/12\n",
      "2744/2744 [==============================] - 27s 10ms/step - loss: 1.1455 - acc: 0.6512 - val_loss: 2.1951 - val_acc: 0.6127\n",
      "Epoch 6/12\n",
      "2744/2744 [==============================] - 26s 9ms/step - loss: 1.0169 - acc: 0.6855 - val_loss: 2.1453 - val_acc: 0.6422\n",
      "Epoch 7/12\n",
      "2744/2744 [==============================] - 26s 10ms/step - loss: 0.9334 - acc: 0.7044 - val_loss: 2.3565 - val_acc: 0.6422\n",
      "Epoch 8/12\n",
      "2744/2744 [==============================] - 27s 10ms/step - loss: 0.8342 - acc: 0.7471 - val_loss: 2.6429 - val_acc: 0.6324\n",
      "Epoch 9/12\n",
      "2744/2744 [==============================] - 26s 9ms/step - loss: 0.7615 - acc: 0.7806 - val_loss: 2.6210 - val_acc: 0.6569\n",
      "Epoch 10/12\n",
      "2744/2744 [==============================] - 25s 9ms/step - loss: 0.7401 - acc: 0.7894 - val_loss: 2.7444 - val_acc: 0.6667\n",
      "Epoch 11/12\n",
      "2744/2744 [==============================] - 25s 9ms/step - loss: 0.6374 - acc: 0.8214 - val_loss: 2.8700 - val_acc: 0.6716\n",
      "Epoch 12/12\n",
      "2744/2744 [==============================] - 24s 9ms/step - loss: 0.6391 - acc: 0.8273 - val_loss: 2.8033 - val_acc: 0.6716\n",
      "204/204 [==============================] - 1s 4ms/step\n",
      "('Test loss:', 2.8032833594901887)\n",
      "('Test accuracy:', 0.6715686262822619)\n"
     ]
    }
   ],
   "source": [
    "model.compile(\n",
    "    optimizer=\"Adam\",\n",
    "    loss=\"categorical_crossentropy\",\n",
    "    metrics=['accuracy'])\n",
    "\n",
    "history = model.fit(\n",
    "    x=X_train,\n",
    "    y=y_train,\n",
    "    epochs=epochs,\n",
    "    batch_size=batch_size,\n",
    "    validation_data= (X_test, y_test),\n",
    "    shuffle=False\n",
    ")\n",
    "\n",
    "score = model.evaluate(\n",
    "    x=X_test,\n",
    "    y=y_test)\n",
    "\n",
    "print('Test loss:', score[0])\n",
    "print('Test accuracy:', score[1])"
   ]
  },
  {
   "cell_type": "code",
   "execution_count": 12,
   "metadata": {},
   "outputs": [
    {
     "data": {
      "image/png": "[encoded data removed]",
      "text/plain": [
       "<Figure size 432x288 with 1 Axes>"
      ]
     },
     "metadata": {
      "needs_background": "light"
     },
     "output_type": "display_data"
    }
   ],
   "source": [
    "# print(history.history.keys())\n",
    "# summarize history for accuracy\n",
    "plt.plot(history.history['acc'])\n",
    "plt.plot(history.history['val_acc'])\n",
    "plt.title('model accuracy')\n",
    "plt.ylabel('accuracy')\n",
    "plt.xlabel('epoch')\n",
    "plt.legend(['train', 'test'], loc='upper left')\n",
    "plt.show()"
   ]
  },
  {
   "cell_type": "code",
   "execution_count": 13,
   "metadata": {},
   "outputs": [
    {
     "data": {
      "image/png": "[encoded data removed]",
      "text/plain": [
       "<Figure size 432x288 with 1 Axes>"
      ]
     },
     "metadata": {
      "needs_background": "light"
     },
     "output_type": "display_data"
    }
   ],
   "source": [
    "# summarize history for loss\n",
    "plt.plot(history.history['loss'])\n",
    "plt.plot(history.history['val_loss'])\n",
    "plt.title('model loss')\n",
    "plt.ylabel('loss')\n",
    "plt.xlabel('epoch')\n",
    "plt.legend(['train', 'test'], loc='upper left')\n",
    "plt.show()"
   ]
  },
  {
   "cell_type": "code",
   "execution_count": 14,
   "metadata": {},
   "outputs": [],
   "source": [
    "model.save('models/toilet_sound_cnn_67.h5')"
   ]
  },
  {
   "cell_type": "code",
   "execution_count": null,
   "metadata": {},
   "outputs": [],
   "source": []
  }
 ],
 "metadata": {
  "kernelspec": {
   "display_name": "Python 2",
   "language": "python",
   "name": "python2"
  },
  "language_info": {
   "codemirror_mode": {
    "name": "ipython",
    "version": 2
   },
   "file_extension": ".py",
   "mimetype": "text/x-python",
   "name": "python",
   "nbconvert_exporter": "python",
   "pygments_lexer": "ipython2",
   "version": "2.7.15"
  }
 },
 "nbformat": 4,
 "nbformat_minor": 2
}
