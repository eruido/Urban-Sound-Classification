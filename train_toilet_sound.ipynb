{
 "cells": [
  {
   "cell_type": "code",
   "execution_count": 8,
   "metadata": {},
   "outputs": [],
   "source": [
    "import keras\n",
    "from keras.layers import Activation, Dense, Dropout, Conv2D, \\\n",
    "                         Flatten, MaxPooling2D, TimeDistributed, LSTM\n",
    "from keras.models import Sequential\n",
    "from keras.callbacks import TensorBoard\n",
    "from keras.models import load_model\n",
    "import librosa\n",
    "import librosa.display\n",
    "import numpy as np\n",
    "import pandas as pd\n",
    "import random\n",
    "import os\n",
    "import time\n",
    "import matplotlib.pyplot as plt\n",
    "%matplotlib inline"
   ]
  },
  {
   "cell_type": "code",
   "execution_count": 29,
   "metadata": {},
   "outputs": [],
   "source": [
    "root = 'ToiletSoundSet'\n",
    "data_set_folder = root + '/sound_data'\n",
    "test_data_set_folder = root + '/validate_data'\n",
    "target_wav_duration = 2.97\n",
    "wav_data_shape_x = 128\n",
    "wav_data_shape_y = 128\n",
    "total_class_label = 6\n",
    "batch_size = 128\n",
    "epochs = 12"
   ]
  },
  {
   "cell_type": "markdown",
   "metadata": {},
   "source": [
    "### Common Functions"
   ]
  },
  {
   "cell_type": "code",
   "execution_count": 4,
   "metadata": {},
   "outputs": [],
   "source": [
    "def extract_feature(file_path):\n",
    "    y, sr = librosa.load(file_path, duration=target_wav_duration)\n",
    "    ps = librosa.feature.melspectrogram(y=y, sr=sr)\n",
    "    if ps.shape != (wav_data_shape_x, wav_data_shape_y):\n",
    "        return None, None\n",
    "    return ps, sr\n",
    "\n",
    "def import_sound_data(folder_path):\n",
    "    imported_count = 0\n",
    "    imported_data_set = []\n",
    "    for root, _, files in os.walk(folder_path):\n",
    "        for file in files:\n",
    "            file_name, file_extension = os.path.splitext(file)\n",
    "            if file_extension != '.wav': continue\n",
    "            file_path = os.path.join(root, file)\n",
    "            ps, sr = extract_feature(file_path)\n",
    "            if sr == None:\n",
    "                continue\n",
    "            class_id = file_name.split('-')[1]\n",
    "            imported_data_set.append((ps, class_id))\n",
    "            imported_count += 1\n",
    "    print('Import finish for folder:{}'.format(folder_path))\n",
    "    return imported_data_set, imported_count"
   ]
  },
  {
   "cell_type": "markdown",
   "metadata": {},
   "source": [
    "### Import Train Data Set"
   ]
  },
  {
   "cell_type": "code",
   "execution_count": 25,
   "metadata": {},
   "outputs": [
    {
     "name": "stdout",
     "output_type": "stream",
     "text": [
      "import_folder_paths:['ToiletSoundSet/sound_data/toilet_flush', 'ToiletSoundSet/sound_data/shower', 'ToiletSoundSet/sound_data/clapping', 'ToiletSoundSet/sound_data/dog_bark', 'ToiletSoundSet/sound_data/broken_glass', 'ToiletSoundSet/sound_data/door']\n"
     ]
    }
   ],
   "source": [
    "train_folder_paths = []\n",
    "for root, dirnames, _ in os.walk(data_set_folder):\n",
    "    for dir_name in dirnames:\n",
    "        wav_folder_path = os.path.join(root, dir_name)\n",
    "        train_folder_paths.append(wav_folder_path)\n",
    "print('import_folder_paths:{}'.format(train_folder_paths))"
   ]
  },
  {
   "cell_type": "code",
   "execution_count": 26,
   "metadata": {},
   "outputs": [
    {
     "name": "stdout",
     "output_type": "stream",
     "text": [
      "Import finish for folder:ToiletSoundSet/sound_data/toilet_flush\n",
      "Import finish for folder:ToiletSoundSet/sound_data/shower\n",
      "Import finish for folder:ToiletSoundSet/sound_data/clapping\n",
      "Import finish for folder:ToiletSoundSet/sound_data/dog_bark\n",
      "Import finish for folder:ToiletSoundSet/sound_data/broken_glass\n",
      "Import finish for folder:ToiletSoundSet/sound_data/door\n"
     ]
    }
   ],
   "source": [
    "train_data_set = []\n",
    "total_import_count = 0\n",
    "for folder_path in train_folder_paths:\n",
    "    imported_data_set, imported_count = import_sound_data(folder_path)\n",
    "    train_data_set.extend(imported_data_set)\n",
    "    total_import_count += imported_count"
   ]
  },
  {
   "cell_type": "markdown",
   "metadata": {},
   "source": [
    "### Import Validate Data Set"
   ]
  },
  {
   "cell_type": "code",
   "execution_count": 27,
   "metadata": {},
   "outputs": [
    {
     "name": "stdout",
     "output_type": "stream",
     "text": [
      "test_folder_paths:['ToiletSoundSet/validate_data/toilet_flush', 'ToiletSoundSet/validate_data/shower', 'ToiletSoundSet/validate_data/clapping', 'ToiletSoundSet/validate_data/dog_bark', 'ToiletSoundSet/validate_data/broken_glass', 'ToiletSoundSet/validate_data/door']\n"
     ]
    }
   ],
   "source": [
    "test_folder_paths = []\n",
    "for root, dirnames, _ in os.walk(test_data_set_folder):\n",
    "    for dir_name in dirnames:\n",
    "        wav_folder_path = os.path.join(root, dir_name)\n",
    "        test_folder_paths.append(wav_folder_path)\n",
    "print('test_folder_paths:{}'.format(test_folder_paths))"
   ]
  },
  {
   "cell_type": "code",
   "execution_count": 28,
   "metadata": {},
   "outputs": [
    {
     "name": "stdout",
     "output_type": "stream",
     "text": [
      "Import finish for folder:ToiletSoundSet/validate_data/toilet_flush\n",
      "Import finish for folder:ToiletSoundSet/validate_data/shower\n",
      "Import finish for folder:ToiletSoundSet/validate_data/clapping\n",
      "Import finish for folder:ToiletSoundSet/validate_data/dog_bark\n",
      "Import finish for folder:ToiletSoundSet/validate_data/broken_glass\n",
      "Import finish for folder:ToiletSoundSet/validate_data/door\n"
     ]
    }
   ],
   "source": [
    "test_data_set = []\n",
    "test_import_count = 0\n",
    "for folder_path in test_folder_paths:\n",
    "    imported_data_set, imported_count = import_sound_data(folder_path)\n",
    "    test_data_set.extend(imported_data_set)\n",
    "    test_import_count += imported_count"
   ]
  },
  {
   "cell_type": "markdown",
   "metadata": {},
   "source": [
    "### Train Model"
   ]
  },
  {
   "cell_type": "code",
   "execution_count": 30,
   "metadata": {},
   "outputs": [
    {
     "name": "stdout",
     "output_type": "stream",
     "text": [
      "Train data set count:2352\n",
      "Test data set count:174\n"
     ]
    }
   ],
   "source": [
    "print('Train data set count:{}'.format(len(train_data_set)))\n",
    "print('Test data set count:{}'.format(len(test_data_set)))\n",
    "\n",
    "random.shuffle(train_data_set)\n",
    "random.shuffle(test_data_set)\n",
    "X_train, y_train = zip(*train_data_set)\n",
    "X_test, y_test = zip(*test_data_set)\n",
    "\n",
    "# Reshape for CNN input\n",
    "X_train = np.array([x.reshape( (wav_data_shape_x, wav_data_shape_y, 1) ) for x in X_train])\n",
    "X_test = np.array([x.reshape( (wav_data_shape_x, wav_data_shape_y, 1) ) for x in X_test])\n",
    "\n",
    "# One-Hot encoding for classes\n",
    "y_train = np.array(keras.utils.to_categorical(y_train, total_class_label))\n",
    "y_test = np.array(keras.utils.to_categorical(y_test, total_class_label))"
   ]
  },
  {
   "cell_type": "code",
   "execution_count": 31,
   "metadata": {},
   "outputs": [],
   "source": [
    "model = Sequential()\n",
    "\n",
    "# Input\n",
    "input_shape=(wav_data_shape_x, wav_data_shape_y, 1)\n",
    "\n",
    "model.add(Conv2D(24, (5, 5), strides=(1, 1), input_shape=input_shape))\n",
    "\n",
    "model.add(MaxPooling2D((4, 2), strides=(4, 2)))\n",
    "model.add(Activation('relu'))\n",
    "model.add(Dropout(rate=0.2))\n",
    "\n",
    "model.add(Conv2D(48, (5, 5), padding=\"valid\"))\n",
    "\n",
    "model.add(MaxPooling2D((4, 2), strides=(4, 2)))\n",
    "model.add(Activation('relu'))\n",
    "model.add(Dropout(rate=0.2))\n",
    "\n",
    "model.add(Conv2D(48, (5, 5), padding=\"valid\"))\n",
    "model.add(Activation('relu'))\n",
    "model.add(Dropout(rate=0.2))\n",
    "\n",
    "model.add(Flatten())\n",
    "model.add(Dropout(rate=0.5))\n",
    "\n",
    "model.add(Dense(64))\n",
    "model.add(Activation('relu'))\n",
    "model.add(Dropout(rate=0.5))\n",
    "\n",
    "# Output\n",
    "model.add(Dense(total_class_label))\n",
    "model.add(Activation('softmax'))"
   ]
  },
  {
   "cell_type": "code",
   "execution_count": 32,
   "metadata": {},
   "outputs": [
    {
     "name": "stdout",
     "output_type": "stream",
     "text": [
      "Train on 2352 samples, validate on 174 samples\n",
      "Epoch 1/12\n",
      "2352/2352 [==============================] - 23s 10ms/step - loss: 2.7433 - acc: 0.2742 - val_loss: 1.9481 - val_acc: 0.4598\n",
      "Epoch 2/12\n",
      "2352/2352 [==============================] - 22s 10ms/step - loss: 1.6914 - acc: 0.4201 - val_loss: 1.3997 - val_acc: 0.4828\n",
      "Epoch 3/12\n",
      "2352/2352 [==============================] - 21s 9ms/step - loss: 1.4169 - acc: 0.5030 - val_loss: 1.5271 - val_acc: 0.4770\n",
      "Epoch 4/12\n",
      "2352/2352 [==============================] - 22s 9ms/step - loss: 1.2567 - acc: 0.5770 - val_loss: 1.2887 - val_acc: 0.6494\n",
      "Epoch 5/12\n",
      "2352/2352 [==============================] - 23s 10ms/step - loss: 1.1442 - acc: 0.6590 - val_loss: 1.4135 - val_acc: 0.6724\n",
      "Epoch 6/12\n",
      "2352/2352 [==============================] - 22s 9ms/step - loss: 1.0818 - acc: 0.6803 - val_loss: 1.5509 - val_acc: 0.6609\n",
      "Epoch 7/12\n",
      "2352/2352 [==============================] - 23s 10ms/step - loss: 0.9750 - acc: 0.7020 - val_loss: 1.4381 - val_acc: 0.6839\n",
      "Epoch 8/12\n",
      "2352/2352 [==============================] - 22s 9ms/step - loss: 0.9050 - acc: 0.7326 - val_loss: 1.1648 - val_acc: 0.7299\n",
      "Epoch 9/12\n",
      "2352/2352 [==============================] - 23s 10ms/step - loss: 0.8566 - acc: 0.7577 - val_loss: 1.1326 - val_acc: 0.7471\n",
      "Epoch 10/12\n",
      "2352/2352 [==============================] - 23s 10ms/step - loss: 0.7588 - acc: 0.7649 - val_loss: 1.1758 - val_acc: 0.7414\n",
      "Epoch 11/12\n",
      "2352/2352 [==============================] - 23s 10ms/step - loss: 0.7423 - acc: 0.7789 - val_loss: 1.1897 - val_acc: 0.7356\n",
      "Epoch 12/12\n",
      "2352/2352 [==============================] - 23s 10ms/step - loss: 0.6919 - acc: 0.7810 - val_loss: 1.3981 - val_acc: 0.7184\n",
      "174/174 [==============================] - 1s 3ms/step\n",
      "('Test loss:', 1.3981075204651932)\n",
      "('Test accuracy:', 0.7183908059679228)\n"
     ]
    }
   ],
   "source": [
    "model.compile(\n",
    "    optimizer=\"Adam\",\n",
    "    loss=\"categorical_crossentropy\",\n",
    "    metrics=['accuracy'])\n",
    "\n",
    "history = model.fit(\n",
    "    x=X_train,\n",
    "    y=y_train,\n",
    "    epochs=epochs,\n",
    "    batch_size=batch_size,\n",
    "    validation_data= (X_test, y_test),\n",
    "    shuffle=False\n",
    ")\n",
    "\n",
    "score = model.evaluate(\n",
    "    x=X_test,\n",
    "    y=y_test)\n",
    "\n",
    "print('Test loss:', score[0])\n",
    "print('Test accuracy:', score[1])\n"
   ]
  },
  {
   "cell_type": "code",
   "execution_count": 33,
   "metadata": {},
   "outputs": [
    {
     "data": {
      "image/png": "[encoded data removed]",
      "text/plain": [
       "<Figure size 432x288 with 1 Axes>"
      ]
     },
     "metadata": {
      "needs_background": "light"
     },
     "output_type": "display_data"
    }
   ],
   "source": [
    "# print(history.history.keys())\n",
    "# summarize history for accuracy\n",
    "plt.plot(history.history['acc'])\n",
    "plt.plot(history.history['val_acc'])\n",
    "plt.title('model accuracy')\n",
    "plt.ylabel('accuracy')\n",
    "plt.xlabel('epoch')\n",
    "plt.legend(['train', 'test'], loc='upper left')\n",
    "plt.show()"
   ]
  },
  {
   "cell_type": "code",
   "execution_count": 34,
   "metadata": {},
   "outputs": [
    {
     "data": {
      "image/png": "[encoded data removed]",
      "text/plain": [
       "<Figure size 432x288 with 1 Axes>"
      ]
     },
     "metadata": {
      "needs_background": "light"
     },
     "output_type": "display_data"
    }
   ],
   "source": [
    "# summarize history for loss\n",
    "plt.plot(history.history['loss'])\n",
    "plt.plot(history.history['val_loss'])\n",
    "plt.title('model loss')\n",
    "plt.ylabel('loss')\n",
    "plt.xlabel('epoch')\n",
    "plt.legend(['train', 'test'], loc='upper left')\n",
    "plt.show()"
   ]
  },
  {
   "cell_type": "code",
   "execution_count": 35,
   "metadata": {},
   "outputs": [],
   "source": [
    "model.save('models/toilet_sound_cnn_71.h5')"
   ]
  },
  {
   "cell_type": "code",
   "execution_count": null,
   "metadata": {},
   "outputs": [],
   "source": []
  }
 ],
 "metadata": {
  "kernelspec": {
   "display_name": "Python 2",
   "language": "python",
   "name": "python2"
  },
  "language_info": {
   "codemirror_mode": {
    "name": "ipython",
    "version": 2
   },
   "file_extension": ".py",
   "mimetype": "text/x-python",
   "name": "python",
   "nbconvert_exporter": "python",
   "pygments_lexer": "ipython2",
   "version": "2.7.15"
  }
 },
 "nbformat": 4,
 "nbformat_minor": 2
}
