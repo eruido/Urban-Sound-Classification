{
 "cells": [
  {
   "cell_type": "markdown",
   "metadata": {},
   "source": [
    "# Import Dependencies"
   ]
  },
  {
   "cell_type": "code",
   "execution_count": 10,
   "metadata": {},
   "outputs": [],
   "source": [
    "import librosa\n",
    "import librosa.display\n",
    "import numpy as np\n",
    "import pandas as pd\n",
    "import os\n",
    "import time\n",
    "from pydub import AudioSegment\n",
    "from pydub.playback import play"
   ]
  },
  {
   "cell_type": "markdown",
   "metadata": {},
   "source": [
    "## Global Variables"
   ]
  },
  {
   "cell_type": "code",
   "execution_count": 11,
   "metadata": {},
   "outputs": [],
   "source": [
    "root = 'ToiletSoundSet'\n",
    "data_set_folder = root + '/audio'\n",
    "temp_folder_path = root + '/tmp'\n",
    "output_folder_path = root + '/sound_data'\n",
    "validate_output_folder_path = root + '/validate_data'\n",
    "validation_folder_path = root + '/validation_audio'\n",
    "target_wav_duration = 4.0\n",
    "pitch_sounds = [-1, 1, 2, -2]\n",
    "vary_sounds = [0.93, 1.07]\n",
    "class_labels = {\n",
    "    \"toilet_flush\": 0,\n",
    "    \"shower\": 1,\n",
    "    \"door\": 2,\n",
    "    \"broken_glass\": 3,\n",
    "    \"brushing_teeth\": 4,\n",
    "    \"clapping\": 5,\n",
    "    \"laughing\": 6,\n",
    "    \"door_knock\": 7,\n",
    "    \"children_playing\": 8\n",
    "}"
   ]
  },
  {
   "cell_type": "markdown",
   "metadata": {},
   "source": [
    "## Common Functions"
   ]
  },
  {
   "cell_type": "code",
   "execution_count": 12,
   "metadata": {},
   "outputs": [],
   "source": [
    "def create_directory_if_not_exist(directory):\n",
    "    if not os.path.exists(directory):\n",
    "        os.makedirs(directory)"
   ]
  },
  {
   "cell_type": "markdown",
   "metadata": {},
   "source": [
    "## Sound Augment Functions"
   ]
  },
  {
   "cell_type": "code",
   "execution_count": 13,
   "metadata": {},
   "outputs": [],
   "source": [
    "def add_slient_sound_if_require(file_path, folder_path, out_dir, new_file_name):\n",
    "    folder_name = folder_path.split('/')[-1]    \n",
    "    file_name = file_path.split('/')[-1].split('.')[0]\n",
    "    \n",
    "    create_directory_if_not_exist(out_dir)\n",
    "    \n",
    "    sound_file_path = file_path\n",
    "    y, sr = librosa.load(sound_file_path)\n",
    "    wav_duration = librosa.get_duration(y=y, sr=sr)\n",
    "    \n",
    "    if wav_duration < target_wav_duration:\n",
    "        sound_file_path = add_slient_to_sound(sound_file_path, wav_duration)  \n",
    "        \n",
    "    y, sr = librosa.load(sound_file_path, duration=target_wav_duration)\n",
    "    \n",
    "    out_file_path = out_dir + '/' + new_file_name + '.wav'\n",
    "    librosa.output.write_wav(out_file_path, y, sr)\n",
    "            \n",
    "    if sound_file_path.find('tmp') > -1:        \n",
    "        os.remove(sound_file_path)\n",
    "        \n",
    "    return out_file_path\n",
    "    \n",
    "def stretched_sound(file_path, out_dir, file_name):\n",
    "    for rate in vary_sounds:\n",
    "        stretched_wav, sr = stretch_wav(file_path, rate)\n",
    "        stretched_file_name = file_name + '-vary_' + str(rate) + '.wav'\n",
    "        librosa.output.write_wav(out_dir + '/' + stretched_file_name, stretched_wav, sr)\n",
    "\n",
    "def pitch_sound(file_path, out_dir, file_name):\n",
    "    for pitch_rate in pitch_sounds:\n",
    "        pitched_wav, sr = shift_wav(file_path, pitch_rate)\n",
    "        pitched_file_name = file_name + '-pitch_' + str(pitch_rate) + '.wav'\n",
    "        librosa.output.write_wav(out_dir + '/' + pitched_file_name, pitched_wav, sr)\n",
    "\n",
    "\n",
    "def add_slient_to_sound(file_path, wav_duration):\n",
    "    slient_duration = ((target_wav_duration - wav_duration) * 1000) / 2\n",
    "    if slient_duration < 0:\n",
    "        return file_path\n",
    "    left_slient_segment = AudioSegment.silent(duration=slient_duration)\n",
    "    right_slient_segment = AudioSegment.silent(duration=slient_duration)\n",
    "    sound = AudioSegment.from_wav(file_path)\n",
    "    file_name = file_path.split('/')[-1]\n",
    "    final_sound = left_slient_segment + sound + right_slient_segment\n",
    "    final_sound_path = temp_folder_path + '/' + file_name\n",
    "    final_sound.export(final_sound_path, format=\"wav\")\n",
    "    return final_sound_path\n",
    "\n",
    "def stretch_wav(wav_file, rate):\n",
    "    y, sr = librosa.load(wav_file, duration=target_wav_duration)\n",
    "    stretched_wav = librosa.effects.time_stretch(y, rate=rate)\n",
    "    return (stretched_wav, sr)\n",
    "\n",
    "def shift_wav(wav_file, steps):\n",
    "    y, sr = librosa.load(wav_file, duration=target_wav_duration)\n",
    "    shift_wav = librosa.effects.pitch_shift(y, sr, n_steps=steps)\n",
    "    return (shift_wav, sr)"
   ]
  },
  {
   "cell_type": "markdown",
   "metadata": {},
   "source": [
    "## Augment Training Data"
   ]
  },
  {
   "cell_type": "code",
   "execution_count": 14,
   "metadata": {},
   "outputs": [
    {
     "name": "stdout",
     "output_type": "stream",
     "text": [
      "import folder path:['ToiletSoundSet/audio/toilet_flush', 'ToiletSoundSet/audio/door_knock', 'ToiletSoundSet/audio/children_playing', 'ToiletSoundSet/audio/shower', 'ToiletSoundSet/audio/laughing', 'ToiletSoundSet/audio/clapping', 'ToiletSoundSet/audio/brushing_teeth', 'ToiletSoundSet/audio/broken_glass', 'ToiletSoundSet/audio/door']\n"
     ]
    }
   ],
   "source": [
    "import_folder_paths = []\n",
    "for root, dirnames, _ in os.walk(data_set_folder):\n",
    "    for dir_name in dirnames:\n",
    "        wav_folder_path = os.path.join(root, dir_name)\n",
    "        import_folder_paths.append(wav_folder_path)\n",
    "print('import folder path:{}'.format(import_folder_paths))"
   ]
  },
  {
   "cell_type": "code",
   "execution_count": 15,
   "metadata": {},
   "outputs": [
    {
     "name": "stdout",
     "output_type": "stream",
     "text": [
      "Import data for folder:ToiletSoundSet/audio/toilet_flush\n",
      "Import in progress: 0\n",
      "Import data for folder:ToiletSoundSet/audio/door_knock\n",
      "Import data for folder:ToiletSoundSet/audio/children_playing\n",
      "Import data for folder:ToiletSoundSet/audio/shower\n",
      "Import data for folder:ToiletSoundSet/audio/laughing\n",
      "Import data for folder:ToiletSoundSet/audio/clapping\n",
      "Import data for folder:ToiletSoundSet/audio/brushing_teeth\n",
      "Import data for folder:ToiletSoundSet/audio/broken_glass\n",
      "Import data for folder:ToiletSoundSet/audio/door\n",
      "Finish\n"
     ]
    }
   ],
   "source": [
    "imported_counter = 0\n",
    "for folder_path in import_folder_paths:\n",
    "    for root, _, files in os.walk(folder_path):\n",
    "        counter = 0\n",
    "        folder_name = folder_path.split('/')[-1]\n",
    "        out_dir = output_folder_path + '/' + folder_name\n",
    "        \n",
    "        class_label = class_labels[folder_name]\n",
    "        if class_label == None:\n",
    "            print('Label is missing for class:{}'.format(folder_name))\n",
    "            continue\n",
    "        \n",
    "        print('Import data for folder:{}'.format(folder_path))\n",
    "        \n",
    "        for file in files:\n",
    "            file_name, file_extension = os.path.splitext(file)\n",
    "            if file_extension != '.wav': continue\n",
    "            if imported_counter % 500 == 0:\n",
    "                print('Import in progress: {}'.format(imported_counter))\n",
    "            file_path = os.path.join(root, file)\n",
    "            new_file_name = str(counter).zfill(4) + '-' + str(class_label)\n",
    "            \n",
    "            # Data Augmentation\n",
    "            file_path = add_slient_sound_if_require(file_path, folder_path, out_dir, new_file_name)\n",
    "            stretched_sound(file_path, out_dir, new_file_name)\n",
    "            pitch_sound(file_path, out_dir, new_file_name)\n",
    "\n",
    "            imported_counter += 1\n",
    "            counter += 1\n",
    "print('Finish')"
   ]
  },
  {
   "cell_type": "markdown",
   "metadata": {},
   "source": [
    "## Augment Validation Data"
   ]
  },
  {
   "cell_type": "code",
   "execution_count": 16,
   "metadata": {},
   "outputs": [
    {
     "name": "stdout",
     "output_type": "stream",
     "text": [
      "import folder path:['ToiletSoundSet/validation_audio/toilet_flush', 'ToiletSoundSet/validation_audio/door_knock', 'ToiletSoundSet/validation_audio/children_playing', 'ToiletSoundSet/validation_audio/shower', 'ToiletSoundSet/validation_audio/laughing', 'ToiletSoundSet/validation_audio/clapping', 'ToiletSoundSet/validation_audio/brushing_teeth', 'ToiletSoundSet/validation_audio/broken_glass', 'ToiletSoundSet/validation_audio/door']\n"
     ]
    }
   ],
   "source": [
    "validate_set_folder_paths = []\n",
    "for root, dirnames, _ in os.walk(validation_folder_path):\n",
    "    for dir_name in dirnames:        \n",
    "        wav_folder_path = os.path.join(root, dir_name)\n",
    "        validate_set_folder_paths.append(wav_folder_path)\n",
    "print('import folder path:{}'.format(validate_set_folder_paths))"
   ]
  },
  {
   "cell_type": "code",
   "execution_count": 18,
   "metadata": {},
   "outputs": [],
   "source": [
    "for folder_path in validate_set_folder_paths:\n",
    "    for root, _, files in os.walk(folder_path):\n",
    "        counter = 0\n",
    "        folder_name = folder_path.split('/')[-1]\n",
    "        out_dir = validate_output_folder_path + '/' + folder_name\n",
    "        \n",
    "        class_label = class_labels[folder_name]\n",
    "        if class_label == None:\n",
    "            print('Label is missing for class:{}'.format(folder_name))\n",
    "            continue\n",
    "        print('Import data for folder:{}'.format(folder_name))\n",
    "        for file in files:\n",
    "            file_name, file_extension = os.path.splitext(file)\n",
    "            if file_extension != '.wav': continue\n",
    "            file_path = os.path.join(root, file)            \n",
    "            new_file_name = str(counter).zfill(4) + '-' + str(class_label)            \n",
    "            add_slient_sound_if_require(file_path, folder_path, out_dir, new_file_name)\n",
    "            counter += 1\n",
    "print('Finish')"
   ]
  }
 ],
 "metadata": {
  "kernelspec": {
   "display_name": "Python 2",
   "language": "python",
   "name": "python2"
  },
  "language_info": {
   "codemirror_mode": {
    "name": "ipython",
    "version": 2
   },
   "file_extension": ".py",
   "mimetype": "text/x-python",
   "name": "python",
   "nbconvert_exporter": "python",
   "pygments_lexer": "ipython2",
   "version": "2.7.15"
  }
 },
 "nbformat": 4,
 "nbformat_minor": 2
}
