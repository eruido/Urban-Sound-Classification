{
 "cells": [
  {
   "cell_type": "markdown",
   "metadata": {},
   "source": [
    "# Import Dependencies"
   ]
  },
  {
   "cell_type": "code",
   "execution_count": 2,
   "metadata": {},
   "outputs": [],
   "source": [
    "import librosa\n",
    "import librosa.display\n",
    "import numpy as np\n",
    "import pandas as pd\n",
    "import os\n",
    "import time\n",
    "from pydub import AudioSegment\n",
    "from pydub.playback import play"
   ]
  },
  {
   "cell_type": "markdown",
   "metadata": {},
   "source": [
    "## Global Variables"
   ]
  },
  {
   "cell_type": "code",
   "execution_count": 34,
   "metadata": {},
   "outputs": [],
   "source": [
    "root = 'ToiletSoundSet'\n",
    "data_set_folder = root + '/audio'\n",
    "temp_folder_path = root + '/tmp'\n",
    "output_folder_path = root + '/sound_data'\n",
    "validate_output_folder_path = root + '/validate_data'\n",
    "validation_folder_path = root + '/validation_audio'\n",
    "target_wav_duration = 4.0\n",
    "pitch_sounds = [-1, 1, 2, -2]\n",
    "vary_sounds = [0.93, 1.07]\n",
    "class_labels = {\n",
    "    \"toilet_flush\": 0,\n",
    "    \"shower\": 1,\n",
    "    \"door\": 2,\n",
    "    \"broken_glass\": 3,\n",
    "    \"brushing_teeth\": 4,\n",
    "    \"clapping\": 5,\n",
    "    \"laughing\": 6,\n",
    "    \"door_knock\": 7,\n",
    "    \"children_playing\": 8\n",
    "}"
   ]
  },
  {
   "cell_type": "markdown",
   "metadata": {},
   "source": [
    "## Common Functions"
   ]
  },
  {
   "cell_type": "code",
   "execution_count": 35,
   "metadata": {},
   "outputs": [],
   "source": [
    "def create_directory_if_not_exist(directory):\n",
    "    if not os.path.exists(directory):\n",
    "        os.makedirs(directory)"
   ]
  },
  {
   "cell_type": "markdown",
   "metadata": {},
   "source": [
    "## Sound Augment Functions"
   ]
  },
  {
   "cell_type": "code",
   "execution_count": 41,
   "metadata": {},
   "outputs": [],
   "source": [
    "def add_slient_sound_if_require(file_path, folder_path, out_dir, new_file_name):\n",
    "    folder_name = folder_path.split('/')[-1]    \n",
    "    file_name = file_path.split('/')[-1].split('.')[0]\n",
    "    \n",
    "    create_directory_if_not_exist(out_dir)\n",
    "    \n",
    "    sound_file_path = file_path\n",
    "    y, sr = librosa.load(sound_file_path)\n",
    "    wav_duration = librosa.get_duration(y=y, sr=sr)\n",
    "    \n",
    "    if wav_duration < target_wav_duration:\n",
    "        sound_file_path = add_slient_to_sound(sound_file_path, wav_duration)  \n",
    "        \n",
    "    y, sr = librosa.load(sound_file_path, duration=target_wav_duration)\n",
    "    \n",
    "    out_file_path = out_dir + '/' + new_file_name + '.wav'\n",
    "    librosa.output.write_wav(out_file_path, y, sr)\n",
    "            \n",
    "    if sound_file_path.find('tmp') > -1:        \n",
    "        os.remove(sound_file_path)\n",
    "        \n",
    "    return out_file_path\n",
    "    \n",
    "def stretched_sound(file_path, out_dir, file_name):\n",
    "    for rate in vary_sounds:\n",
    "        stretched_wav, sr = stretch_wav(file_path, rate)\n",
    "        stretched_file_name = file_name + '_vary_' + str(rate) + '.wav'\n",
    "        librosa.output.write_wav(out_dir + '/' + stretched_file_name, stretched_wav, sr)\n",
    "\n",
    "def pitch_sound(file_path, out_dir, file_name):\n",
    "    for pitch_rate in pitch_sounds:\n",
    "        pitched_wav, sr = shift_wav(file_path, pitch_rate)\n",
    "        pitched_file_name = file_name + '_pitch_' + str(pitch_rate) + '.wav'\n",
    "        librosa.output.write_wav(out_dir + '/' + pitched_file_name, pitched_wav, sr)\n",
    "\n",
    "\n",
    "def add_slient_to_sound(file_path, wav_duration):\n",
    "    slient_duration = ((target_wav_duration - wav_duration) * 1000) / 2\n",
    "    if slient_duration < 0:\n",
    "        return file_path\n",
    "    left_slient_segment = AudioSegment.silent(duration=slient_duration)\n",
    "    right_slient_segment = AudioSegment.silent(duration=slient_duration)\n",
    "    sound = AudioSegment.from_wav(file_path)\n",
    "    file_name = file_path.split('/')[-1]\n",
    "    final_sound = left_slient_segment + sound + right_slient_segment\n",
    "    final_sound_path = temp_folder_path + '/' + file_name\n",
    "    final_sound.export(final_sound_path, format=\"wav\")\n",
    "    return final_sound_path\n",
    "\n",
    "def stretch_wav(wav_file, rate):\n",
    "    y, sr = librosa.load(wav_file, duration=target_wav_duration)\n",
    "    stretched_wav = librosa.effects.time_stretch(y, rate=rate)\n",
    "    return (stretched_wav, sr)\n",
    "\n",
    "def shift_wav(wav_file, steps):\n",
    "    y, sr = librosa.load(wav_file, duration=target_wav_duration)\n",
    "    shift_wav = librosa.effects.pitch_shift(y, sr, n_steps=steps)\n",
    "    return (shift_wav, sr)"
   ]
  },
  {
   "cell_type": "markdown",
   "metadata": {},
   "source": [
    "## Augment Training Data"
   ]
  },
  {
   "cell_type": "code",
   "execution_count": 45,
   "metadata": {},
   "outputs": [
    {
     "name": "stdout",
     "output_type": "stream",
     "text": [
      "import folder path:['ToiletSoundSet/audio/door']\n"
     ]
    }
   ],
   "source": [
    "import_folder_paths = []\n",
    "for root, dirnames, _ in os.walk(data_set_folder):\n",
    "    for dir_name in dirnames:\n",
    "        if dir_name != 'door': continue\n",
    "        wav_folder_path = os.path.join(root, dir_name)\n",
    "        import_folder_paths.append(wav_folder_path)\n",
    "print('import folder path:{}'.format(import_folder_paths))"
   ]
  },
  {
   "cell_type": "code",
   "execution_count": 47,
   "metadata": {},
   "outputs": [
    {
     "name": "stdout",
     "output_type": "stream",
     "text": [
      "Begin to import sound data from folder:door\n",
      "File:245823__checkseven__door-close\n",
      "Import in progress: 0\n",
      "File:32327__codeine__door-closing\n",
      "File:369703__mrguff__door-close-1\n",
      "File:275091__arnaud-coutancier__door-open-close-4\n",
      "File:15418__pagancow__dorm-door-close\n",
      "File:339677__inspectorj__door-church-close-e\n",
      "File:406633__tlcolbe__bathroom-door-slam-shut-harder\n",
      "File:346833__pieguy360__door-opening-and-closing\n",
      "File:402375__freemaster2__door-slam\n",
      "File:.DS_Store\n",
      "File:209467__supersnd__door-closing\n",
      "File:390125__xploman__door-open-and-close\n",
      "File:237405__squareal__house-door-closing-interior\n",
      "File:269467__magnus589__opening-closing-door\n",
      "File:11573__samplecat__washmachine-close\n",
      "File:233435__dmadridp__emergency-door\n",
      "File:271660__honorhunter__door-closed-close\n",
      "File:156001__dsisstudios__front-door-open-and-close\n",
      "File:364920__mattix__door-closed\n",
      "File:152888__davidkyoku__closing-a-door\n",
      "File:109311__ryding__door-open\n",
      "File:333249__barnface__door-open-close-weather-stripping\n",
      "File:153308__felipelnv__door-closing\n",
      "File:216876__castironcarousel__creaky-closed-door\n",
      "File:347151__azzaziel__door-closing\n",
      "File:51134__rutgermuller__closet-door\n",
      "File:381964__stiffman__bedroom-wooden-door-close-mic-ed-mono-post-squeak-no-knocks\n",
      "File:184308__swiftoid__bathroom-door-lock\n",
      "File:35617__fresco__open-and-close-wooden-door-by-fresco\n",
      "File:153558__splicesound__light-hollow-wooden-door-open-close\n",
      "File:164631__adam-n__door-sliding-open\n",
      "File:104527__skyumori__door-close-sqeuak-01\n",
      "File:167259__rshai__open-door-and-close\n",
      "File:185780__txirimiri__bathroom-door\n",
      "File:126044__mhtaylor67__office-door-closing\n",
      "File:34585__klangfabrik__doorclosemcu01\n",
      "File:79184__nathan-lomeli__door-shutting\n",
      "File:413273__timmeh515__door-close-2\n",
      "File:31548__schroedel__turschlieen\n",
      "File:428347__adrianoanjos__closing-door-slam\n",
      "File:245969__paul368__door-close\n",
      "File:186486__jose908__closing-door\n",
      "File:117614__soundmary__door-close\n",
      "File:223981__tec-studio__latch\n",
      "File:323634__krucifix444__door-shut-krucifix-productions-sound-effects\n",
      "File:72676__j1987__small-door-open-close\n",
      "File:262599__msweeney681__closing-bathroom-door\n",
      "File:233684__ggc9__tanger-close-door\n",
      "File:389810__krnash__wooden-door-slamming-close\n",
      "File:153233__noemicp__bathroom-door\n",
      "File:346884__thebuilder15__open-close-sliding-door2\n",
      "File:36828__csproductions__doorslamcs\n",
      "File:426388__jbricker1997__oven-door-close-3-feet-bricker\n",
      "File:241954__juanicotolengo__door-opening\n",
      "File:402523__cosmodust__door-closing\n",
      "File:31768__slanesh__porte-open-close\n",
      "File:338689__natemarler__door-close-slight-squeek\n",
      "File:346712__adam-n__door-open-close\n",
      "File:352716__dalesome__squeaky-bathroom-door\n",
      "File:251990__beansqueso31__opendoor\n",
      "File:405418__mrthenoronha__closing-metal-door\n",
      "File:400330__tabook__door-close\n",
      "File:322123__sorce__creeky-door-norm-01-01\n",
      "File:3201__suonho__closethedoor-minidisk-suonho\n",
      "File:135582__kingsamas__door-open-close\n",
      "File:52067__guitarguy1985__doorclose\n",
      "File:234735__fenrirfangs__oven-door-1\n",
      "Finish\n"
     ]
    }
   ],
   "source": [
    "imported_counter = 0\n",
    "for folder_path in import_folder_paths:\n",
    "    for root, _, files in os.walk(folder_path):\n",
    "        counter = 0\n",
    "        folder_name = folder_path.split('/')[-1]\n",
    "        out_dir = output_folder_path + '/' + folder_name\n",
    "        \n",
    "        class_label = class_labels[folder_name]\n",
    "        if class_label == None:\n",
    "            print('Label is missing for class:{}'.format(folder_name))\n",
    "            continue\n",
    "\n",
    "        for file in files:\n",
    "            file_name, file_extension = os.path.splitext(file)\n",
    "            print('File:{}'.format(file_name))\n",
    "            if file_extension != '.wav': continue\n",
    "            if imported_counter % 500 == 0:\n",
    "                print('Import in progress: {}'.format(imported_counter))\n",
    "            file_path = os.path.join(root, file)\n",
    "            new_file_name = str(counter).zfill(4) + '-' + str(class_label)\n",
    "            \n",
    "            # Data Augmentation\n",
    "            file_path = add_slient_sound_if_require(file_path, folder_path, out_dir, new_file_name)\n",
    "            stretched_sound(file_path, out_dir, new_file_name)\n",
    "            pitch_sound(file_path, out_dir, new_file_name)\n",
    "\n",
    "            imported_counter += 1\n",
    "            counter += 1\n",
    "print('Finish')"
   ]
  },
  {
   "cell_type": "markdown",
   "metadata": {},
   "source": [
    "## Augment Validation Data"
   ]
  },
  {
   "cell_type": "code",
   "execution_count": 8,
   "metadata": {},
   "outputs": [
    {
     "name": "stdout",
     "output_type": "stream",
     "text": [
      "import folder path:['ToiletSoundSet/validation_audio/toilet_flush', 'ToiletSoundSet/validation_audio/door_knock', 'ToiletSoundSet/validation_audio/children_playing', 'ToiletSoundSet/validation_audio/shower', 'ToiletSoundSet/validation_audio/laughing', 'ToiletSoundSet/validation_audio/clapping', 'ToiletSoundSet/validation_audio/brushing_teeth', 'ToiletSoundSet/validation_audio/broken_glass', 'ToiletSoundSet/validation_audio/door']\n"
     ]
    }
   ],
   "source": [
    "validate_set_folder_paths = []\n",
    "for root, dirnames, _ in os.walk(validation_folder_path):\n",
    "    for dir_name in dirnames:        \n",
    "        wav_folder_path = os.path.join(root, dir_name)\n",
    "        validate_set_folder_paths.append(wav_folder_path)\n",
    "print('import folder path:{}'.format(validate_set_folder_paths))"
   ]
  },
  {
   "cell_type": "code",
   "execution_count": 9,
   "metadata": {},
   "outputs": [],
   "source": [
    "for folder_path in validate_set_folder_paths:\n",
    "    for root, _, files in os.walk(folder_path):\n",
    "        counter = 0\n",
    "        folder_name = folder_path.split('/')[-1]\n",
    "        out_dir = validate_output_folder_path + '/' + folder_name\n",
    "        \n",
    "        class_label = class_labels[folder_name]\n",
    "        if class_label == None:\n",
    "            print('Label is missing for class:{}'.format(folder_name))\n",
    "            continue\n",
    "\n",
    "        for file in files:\n",
    "            file_name, file_extension = os.path.splitext(file)\n",
    "            if file_extension != '.wav': continue\n",
    "            file_path = os.path.join(root, file)            \n",
    "            new_file_name = str(counter).zfill(4) + '-' + str(class_label)            \n",
    "            add_slient_sound_if_require(file_path, folder_path, out_dir, new_file_name)\n",
    "            counter += 1"
   ]
  },
  {
   "cell_type": "code",
   "execution_count": null,
   "metadata": {},
   "outputs": [],
   "source": [
    "print('Finish')"
   ]
  }
 ],
 "metadata": {
  "kernelspec": {
   "display_name": "Python 2",
   "language": "python",
   "name": "python2"
  },
  "language_info": {
   "codemirror_mode": {
    "name": "ipython",
    "version": 2
   },
   "file_extension": ".py",
   "mimetype": "text/x-python",
   "name": "python",
   "nbconvert_exporter": "python",
   "pygments_lexer": "ipython2",
   "version": "2.7.15"
  }
 },
 "nbformat": 4,
 "nbformat_minor": 2
}
